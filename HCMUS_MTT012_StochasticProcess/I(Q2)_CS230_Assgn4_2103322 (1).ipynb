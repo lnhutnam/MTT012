{
 "cells": [
  {
   "cell_type": "code",
   "execution_count": 3,
   "id": "8d2a9ba8",
   "metadata": {},
   "outputs": [
    {
     "data": {
      "text/plain": [
       "Text(0.5, 1.0, 'PMF DISTRIBUTION')"
      ]
     },
     "execution_count": 3,
     "metadata": {},
     "output_type": "execute_result"
    },
    {
     "data": {
      "image/png": "[encoded data removed]",
      "text/plain": [
       "<Figure size 640x480 with 1 Axes>"
      ]
     },
     "metadata": {},
     "output_type": "display_data"
    }
   ],
   "source": [
    "'''\n",
    "Name: Karan Sutariya\n",
    "Roll No: 2103322\n",
    "CS230 Assignment[4]: Part I - Q2 Simulating Bernoulli process and estimating the PMF of the length of first continuous string of zeroes\n",
    "\n",
    "'''\n",
    "\n",
    "\n",
    "#Importing the following libraries to work with coin tossing and plotting the distribution\n",
    "\n",
    "\n",
    "import numpy as np\n",
    "from numpy.random import binomial\n",
    "import matplotlib.pyplot as plot\n",
    "\n",
    "\n",
    "k = 10\n",
    "\n",
    "p = 0.5\n",
    "\n",
    "PMF = {}  #creating a dictionary to store the length of strings along with their count in 100000 iterations\n",
    "\n",
    "\n",
    "\n",
    "for i in range(100000):\n",
    "    \n",
    "    no_tails = 0 #initialize the number of tails\n",
    "    outcome = np.random.binomial(1,p) # a coin toss\n",
    "    \n",
    "    #Since atleast 1 tails has to come up in order to define the length of 0's string\n",
    "    \n",
    "    while (no_tails != 0):  #flipping the coin till the first tails comes up\n",
    "    \n",
    "        outcome = np.random.binomial(1,p)\n",
    "        \n",
    "    no_tails = no_tails +1\n",
    "    \n",
    "    outcome = np.random.binomial(1,p)\n",
    "    \n",
    "    while (outcome == 0):  #tossing the coin until we get the successive tails\n",
    "        \n",
    "        no_tails = no_tails + 1\n",
    "        outcome = np.random.binomial(1,p)\n",
    "     \n",
    "    \n",
    "    #Inserting the length of 0's strings along with their count\n",
    "    if no_tails in PMF:\n",
    "        \n",
    "        (PMF[no_tails]) = (PMF[no_tails]) + 1  #if already there then just add the counts\n",
    "        \n",
    "    else:\n",
    "        \n",
    "        (PMF[no_tails]) = 1\n",
    "        \n",
    "        \n",
    "\n",
    "alpha = 100000  #the number of times these experiment is conducted for\n",
    "\n",
    "\n",
    "#for plotting the probabilities divide by 100000\n",
    "\n",
    "for k in PMF.keys():\n",
    "    PMF[k] = (PMF[k])/alpha\n",
    "    \n",
    "    \n",
    "    \n",
    "#Plotting the distribution\n",
    "\n",
    "plot.bar(PMF.keys(), PMF.values(), color = 'magenta', ec='black')\n",
    "\n",
    "plot.xlabel(\"Length of first continous string of zeroes  ------------->\")\n",
    "\n",
    "plot.ylabel(\"Probability  ------------->\")\n",
    "\n",
    "plot.title(\"PMF DISTRIBUTION\")\n",
    "\n",
    "    \n",
    "     \n",
    "    \n",
    "        \n",
    "        \n",
    "\n",
    "\n",
    "\n",
    "\n"
   ]
  },
  {
   "cell_type": "code",
   "execution_count": null,
   "id": "87cd99e0",
   "metadata": {},
   "outputs": [],
   "source": []
  }
 ],
 "metadata": {
  "kernelspec": {
   "display_name": "Python 3 (ipykernel)",
   "language": "python",
   "name": "python3"
  },
  "language_info": {
   "codemirror_mode": {
    "name": "ipython",
    "version": 3
   },
   "file_extension": ".py",
   "mimetype": "text/x-python",
   "name": "python",
   "nbconvert_exporter": "python",
   "pygments_lexer": "ipython3",
   "version": "3.10.0"
  }
 },
 "nbformat": 4,
 "nbformat_minor": 5
}
