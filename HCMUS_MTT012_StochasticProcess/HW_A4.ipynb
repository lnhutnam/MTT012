{
 "cells": [
  {
   "cell_type": "markdown",
   "metadata": {},
   "source": [
    "## General Information\n",
    "\n",
    "Fullname: LE Nhut Nam\n",
    "\n",
    "Class: Applied Mathematics - 33/2023\n",
    "\n",
    "Contact\n",
    "- Email: nam.lnhut@gmail.com"
   ]
  },
  {
   "cell_type": "code",
   "execution_count": null,
   "metadata": {},
   "outputs": [],
   "source": [
    "import numpy as np\n",
    "import matplotlib.pyplot as plt\n",
    "\n",
    "from math import comb\n",
    "from collections import Counter"
   ]
  },
  {
   "cell_type": "markdown",
   "metadata": {},
   "source": [
    "## Stochastic Process - Homework Assignment 04"
   ]
  },
  {
   "cell_type": "markdown",
   "metadata": {},
   "source": [
    "## Exercise 01"
   ]
  },
  {
   "cell_type": "markdown",
   "metadata": {},
   "source": [
    "Potential customers arrive at a single-server station in accordance with a Poisson process with rate $\\lambda$. However, if the arrival finds $n$ customers already in the station, then he will enter the system with probability $\\alpha_n$. Assuming an exponential service rate $\\mu$, set this up as a birth and death process and determine the birth and death rates."
   ]
  },
  {
   "cell_type": "markdown",
   "metadata": {},
   "source": [
    "**Solution**\n",
    "\n",
    "Considering:\n",
    "- \"Birth\" event = \"customer arrivals\"\n",
    "- \"Death\" event = \"customer departures (service completions)\"\n",
    "\n",
    "Given:\n",
    "- Rate of arrival = $\\lambda$\n",
    "- Rate of service = $\\mu$\n",
    "\n",
    "The \"birth\" rate $\\lambda_n$ depends on the number of people already in the system and the probability of new people joining the system $\\alpha_n$, $\\lambda_n = \\lambda\\alpha_n$."
   ]
  },
  {
   "cell_type": "markdown",
   "metadata": {},
   "source": [
    "## Exercise 02"
   ]
  },
  {
   "cell_type": "markdown",
   "metadata": {},
   "source": [
    "There are $N$ individuals in a population, some of whom have a certain infection that spreads as follows. Contacts between two members of this population occur in accordance with a Poisson process having rate $\\lambda$. When a contact occurs, it is equally likely to involve any of the $C_N^2$ pairs of individuals in the population. If a contact involves an infected and a noninfected individual, then with probability $p$ the noninfected individual becomes infected. Once infected, an individual remains infected throughout. Let $X(t)$ denote the number of infected members of the population at time $t$."
   ]
  },
  {
   "cell_type": "markdown",
   "metadata": {},
   "source": [
    "Có $N$ cá thể trong một quần thể, một số người trong số họ mắc một bệnh lây nhiễm nhất định và lây lan như sau. Sự tiếp xúc giữa hai thành viên của quần thể này xảy ra theo quá trình Poisson có tỷ lệ $\\lambda$. Khi một sự tiếp xúc xảy ra, đó là có khả năng liên quan đến bất kỳ cặp $C_N^2$ nào trong quần thể như nhau. Nếu một lần tiếp xúc liên quan đến một cá thể bị nhiễm và một cá thể không bị nhiễm, thì với xác suất $p$ cá thể không bị nhiễm sẽ bị nhiễm. Một khi bị nhiễm, một cá thể vẫn bị nhiễm trong suốt sau này. Gọi $X(t)$ đại diện cho số lượng thành viên bị nhiễm bệnh trong quần thể tại thời điểm $t$."
   ]
  },
  {
   "cell_type": "markdown",
   "metadata": {},
   "source": [
    "(a) Is $\\{X(t), t ≥ 0\\}$ a continuous-time Markov chain?\n",
    "\n",
    "**Solution**\n",
    "\n",
    "Yes. Because the future events or outcomes depned only on the present and is independent of the past."
   ]
  },
  {
   "cell_type": "markdown",
   "metadata": {},
   "source": [
    "(b) Specify its type.\n",
    "\n",
    "**Solution**\n",
    "\n",
    "This stochastic process is Birth process. \n",
    "\n",
    "Considering the starting point at $X(0)$ (infected) individuals, then as time goes by, there become more and more infected individuals with no possibility of recovering. Thus $X(t)$ increases. Here, being infected is as they are born (they get multiplied). And thus, $\\mu_n = 0$, so $X(t)$ is Birth process."
   ]
  },
  {
   "cell_type": "markdown",
   "metadata": {},
   "source": [
    "(c) Starting with a single infected individual, what is the expected time until all members are infected?\n",
    "\n",
    "**Solution**\n",
    "\n",
    "When there are $n$ infected individuals, then there are $N - n$ noninfected individuals, and the total number of possible contacts between infected and noninfected individuals is $n(N-n)$. At a Poisson rate $\\lambda$, we take out one contact, and\n",
    "- If this contact between two sane (hai thằng lành mạnh), they remain sane.\n",
    "- If this contact between two infected (hai thằng bị bệnh), they remain infected.\n",
    "- If one is infected, and one is not, then with probability $p$, it gets infected.\n",
    "\n",
    "Consider $X(t) = n$ then\n",
    "\n",
    "$$\n",
    "\\begin{cases}\n",
    "    X(t + h) = n, \\text{ if the contact between two sane or between two infected}\\\\\n",
    "    X(t + h) = n + 1, \\text{ if one is infected, and one is not with prob }p\n",
    "\\end{cases}\n",
    "$$\n",
    "\n",
    "The probability of choosing contact between two sane:\n",
    "\n",
    "$$\n",
    "P[\\text{two sane}] = \\frac{{N-n}}{N}\\times\\frac{{N-n}}{N} = \\left(\\frac{{N-n}}{N}\\right)^2\n",
    "$$\n",
    "\n",
    "The probability of choosing contact between two infected:\n",
    "\n",
    "$$\n",
    "P[\\text{two infected}] = \\frac{{n}}{N}\\times\\frac{{n}}{N} = \\left(\\frac{{n}}{N}\\right)^2\n",
    "$$\n",
    "\n",
    "The probability of choosing contact between one is infected, and one is not:\n",
    "\n",
    "$$\n",
    "P[\\text{one - one}] = \\frac{{N-n}}{N}\\times\\frac{{n}}{N} + \\frac{{n}}{N}\\times\\frac{{N-n}}{N}= 2\\times\\frac{{n}}{N}\\times\\frac{{N-n}}{N}\n",
    "$$\n",
    "\n",
    "So the transition probabilities:\n",
    "\n",
    "$$\n",
    "\\begin{cases}\n",
    "    P_{n,n} = \\left(\\frac{{N-n}}{N}\\right)^2 + \\left(\\frac{{n}}{N}\\right)^2 + 2\\times\\frac{{n}}{N}\\times\\frac{{N-n}}{N} \\times (1-p) \\\\ \n",
    "    P_{n,n+1} = 2\\times\\frac{{n}}{N}\\times\\frac{{N-n}}{N} \\times p\n",
    "\\end{cases}\n",
    "$$\n",
    "\n",
    "$P_{n,n} + P_{n,n+1} = 1, \\forall n \\geq 1$\n",
    "\n",
    "The birth transition rates are then:\n",
    "\n",
    "$$\n",
    "\\lambda_n = \\lambda \\frac{n(N-n)}{C^2_N}p, n = 0, \\dots N - 1\n",
    "$$\n",
    "\n",
    "Starting from $X(0) = 1$, until all are infected, $X(t) = N$. The time between changes of state are exponentially distributed with rate $\\lambda_n$ with mean $\\frac{1}{\\lambda_n}$\n",
    "\n",
    "$$\n",
    "\\text{Total time } = \\sum_{i=1}^N \\frac{1}{\\lambda_i} = \\frac{C^2_N}{\\lambda \\times p} \\sum_{i=1}^N [i(N-i)]^{-1}\n",
    "$$"
   ]
  },
  {
   "cell_type": "markdown",
   "metadata": {},
   "source": [
    "## Exercise 03"
   ]
  },
  {
   "cell_type": "markdown",
   "metadata": {},
   "source": [
    "Consider a birth and death process with birth rates $\\lambda_i = (i + 1)\\lambda, i \\geq 0$, and death rates $\\mu_i = i\\mu, i \\geq 0$."
   ]
  },
  {
   "cell_type": "markdown",
   "metadata": {},
   "source": [
    "Let $T_i$ denote the time, starting from state $i$, it takes for the process to enter state $i+1$\n",
    "\n",
    "$$\n",
    "E[T_i] = \\frac{1}{\\lambda_i + \\mu_i} + \\frac{\\mu_i}{\\lambda_i + \\mu_i}(E[T_{i-1}]+E[T_i])\n",
    "$$\n",
    "\n",
    "$$\n",
    "Var[T_i] = \\frac{1}{\\lambda_i(\\lambda_i + \\mu_i)} + \\frac{\\mu_i}{\\lambda_i}Var[T_{i-1}]+\\frac{\\mu_i}{\\mu_i + \\lambda_i}(E[T_{i-1}]+E[T_i])^2\n",
    "$$"
   ]
  },
  {
   "cell_type": "markdown",
   "metadata": {},
   "source": [
    "(a) Determine the expected time to go from state 0 to state 4.\n",
    "\n",
    "**Solution**\n",
    "\n",
    "$$\n",
    "\\begin{align}\n",
    "    \\begin{aligned}\n",
    "        E[T_0 + T_1 + T_2 + T_3 + T_4] &= E[T_0] + E[T_1] + E[T_2] + E[T_3] + E[T_4]\\\\\n",
    "        E[T_0] &= \\frac{1}{\\lambda}\\\\\n",
    "        E[T_1] &= \\frac{1}{2\\lambda + \\mu} + \\frac{\\mu}{2\\lambda + \\mu}\\left(\\frac{1}{\\lambda} + E[T_1]\\right)\\\\\n",
    "        &= \\frac{1}{2\\lambda} + \\frac{1}{2\\lambda}\\frac{\\mu}{\\lambda}\\\\\n",
    "        &= \\frac{1}{2\\lambda}\\left(1 + \\frac{\\mu}{\\lambda}\\right)\\\\\n",
    "        E[T_2] &= \\frac{1}{3\\lambda + 2\\mu} + \\frac{2\\mu}{3\\lambda + 2\\mu}\\left(\\frac{1}{2\\lambda}\\left(1+\\frac{\\mu}{\\lambda}\\right) + E[T_2]\\right)\\\\\n",
    "        &= \\frac{1}{3\\lambda}\\left(1+\\frac{\\mu}{\\lambda} + \\left(\\frac{\\mu}{\\lambda}\\right)^2\\right)\\\\\n",
    "        E[T_3] &= \\frac{1}{4\\lambda + 3\\mu} + \\frac{3\\mu}{4\\lambda + 3\\mu}\\left(\\frac{1}{3\\lambda}\\left(1+\\frac{\\mu}{\\lambda} + \\left(\\frac{\\mu}{\\lambda}\\right)^2\\right) + E[T_3]\\right)\\\\\n",
    "        &= \\frac{1}{4\\lambda}\\left(1+\\frac{\\mu}{\\lambda} + \\left(\\frac{\\mu}{\\lambda}\\right)^2+\\left(\\frac{\\mu}{\\lambda}\\right)^3\\right)\\\\\n",
    "        E[T_4] &= \\frac{1}{5\\lambda}\\left(1+\\frac{\\mu}{\\lambda} + \\left(\\frac{\\mu}{\\lambda}\\right)^2+\\left(\\frac{\\mu}{\\lambda}\\right)^3+\\left(\\frac{\\mu}{\\lambda}\\right)^4\\right)\\\\\n",
    "    \\end{aligned}\n",
    "\\end{align}\n",
    "$$"
   ]
  },
  {
   "cell_type": "markdown",
   "metadata": {},
   "source": [
    "(b) Determine the expected time to go from state 2 to state 5.\n",
    "\n",
    "**Solution**\n",
    "\n",
    "$$\n",
    "\\begin{align}\n",
    "    \\begin{aligned}\n",
    "    E[T_2 + T_3 + T_4 + T_5] &= E[T_2] + E[T_3] + E[T_4] + E[T_5]\\\\\n",
    "    E[T_0] &= \\frac{1}{\\lambda}\\\\\n",
    "        E[T_1] &= \\frac{1}{2\\lambda + \\mu} + \\frac{\\mu}{2\\lambda + \\mu}\\left(\\frac{1}{\\lambda} + E[T_1]\\right)\\\\\n",
    "        &= \\frac{1}{2\\lambda} + \\frac{1}{2\\lambda}\\frac{\\mu}{\\lambda}\\\\\n",
    "        &= \\frac{1}{2\\lambda}\\left(1 + \\frac{\\mu}{\\lambda}\\right)\\\\\n",
    "        E[T_2] &= \\frac{1}{3\\lambda + 2\\mu} + \\frac{2\\mu}{3\\lambda + 2\\mu}\\left(\\frac{1}{2\\lambda}\\left(1+\\frac{\\mu}{\\lambda}\\right) + E[T_2]\\right)\\\\\n",
    "        &= \\frac{1}{3\\lambda}\\left(1+\\frac{\\mu}{\\lambda} + \\left(\\frac{\\mu}{\\lambda}\\right)^2\\right)\\\\\n",
    "        E[T_3] &= \\frac{1}{4\\lambda + 3\\mu} + \\frac{3\\mu}{4\\lambda + 3\\mu}\\left(\\frac{1}{3\\lambda}\\left(1+\\frac{\\mu}{\\lambda} + \\left(\\frac{\\mu}{\\lambda}\\right)^2\\right) + E[T_3]\\right)\\\\\n",
    "        &= \\frac{1}{4\\lambda}\\left(1+\\frac{\\mu}{\\lambda} + \\left(\\frac{\\mu}{\\lambda}\\right)^2+\\left(\\frac{\\mu}{\\lambda}\\right)^3\\right)\\\\\n",
    "        E[T_4] &= \\frac{1}{5\\lambda}\\left(1+\\frac{\\mu}{\\lambda} + \\left(\\frac{\\mu}{\\lambda}\\right)^2+\\left(\\frac{\\mu}{\\lambda}\\right)^3+\\left(\\frac{\\mu}{\\lambda}\\right)^4\\right)\\\\\n",
    "        E[T_5] &= \\frac{1}{5\\lambda}\\left(1+\\frac{\\mu}{\\lambda} + \\left(\\frac{\\mu}{\\lambda}\\right)^2+\\left(\\frac{\\mu}{\\lambda}\\right)^3+\\left(\\frac{\\mu}{\\lambda}\\right)^4 +\\left(\\frac{\\mu}{\\lambda}\\right)^5\\right)\\\\\n",
    "    \\end{aligned}\n",
    "\\end{align}\n",
    "$$"
   ]
  },
  {
   "cell_type": "markdown",
   "metadata": {},
   "source": [
    "## Exercise 04"
   ]
  },
  {
   "cell_type": "markdown",
   "metadata": {},
   "source": [
    "Consider two machines, both of which have an exponential lifetime with mean $1/\\lambda$. There is a single repairman that can service machines at an exponential rate $\\mu$. Set up the Kolmogorov backward equations; you need not solve them."
   ]
  },
  {
   "cell_type": "markdown",
   "metadata": {},
   "source": [
    "**Solution**\n",
    "\n",
    "Let $X(t)$ donate the number of failed machines at the time $t$. Then $X(t)$ is **continuous-time Markov chain** on $S := \\{0, 1, 2\\}$:\n",
    "- State 0: Both working\n",
    "- State 1: (Machine 1 broken, machine 2 working) or (Machine 1 working, machine 2 broken)\n",
    "- State 2: Both broken\n",
    "\n",
    "with following rates:\n",
    "\n",
    "$$\n",
    "\\begin{align}\n",
    "\\lambda_0 &= 2\\lambda\\\\\n",
    "\\lambda_1 &= \\lambda\\\\\n",
    "\\mu_1 &= \\mu_2 = \\mu\n",
    "\\end{align}\n",
    "$$"
   ]
  },
  {
   "cell_type": "markdown",
   "metadata": {},
   "source": [
    "$$\n",
    "\\mathbf{Q} = \n",
    "\\begin{bmatrix}\n",
    "&\\mathbf j&\\mathbf0&\\mathbf1&\\mathbf2\\\\\n",
    "\\mathbf i&\\\\\n",
    "\\mathbf0&&-2\\lambda&2\\lambda&0\\\\\n",
    "\\mathbf1&&\\mu&-(\\mu + \\lambda)&\\lambda\\\\\n",
    "\\mathbf2&&0&\\mu&-\\mu\\\\\n",
    "\\end{bmatrix}\n",
    "$$"
   ]
  },
  {
   "cell_type": "markdown",
   "metadata": {},
   "source": [
    "The Kolmogorov backward equation, in matrix form, is:\n",
    "\n",
    "$$\n",
    "\\mathbf{P}'(t) = \\mathbf{Q}\\mathbf{P}(t) = \\begin{bmatrix}\n",
    "-2\\lambda&2\\lambda&0\\\\\n",
    "\\mu&-(\\mu + \\lambda)&\\lambda\\\\\n",
    "0&\\mu&-\\mu\\\\\n",
    "\\end{bmatrix}\\mathbf{P}(t) \n",
    "$$"
   ]
  },
  {
   "cell_type": "markdown",
   "metadata": {},
   "source": [
    "## Exercise 05"
   ]
  },
  {
   "cell_type": "markdown",
   "metadata": {},
   "source": [
    "A small barbershop, operated by a single barber, has room for at most two customers. Potential customers arrive at a Poisson rate of three per hour, and the successive service times are independent exponential random variables with mean $1/4$ hour."
   ]
  },
  {
   "cell_type": "markdown",
   "metadata": {},
   "source": [
    "Let $X(t)$ donate the number of customer in the shop at the time $t$, which take the possible values $\\{0, 1, 2\\}$. This is a Birth-Death process with birth rates $\\lambda = 3$, and death rate $\\mu = 4$"
   ]
  },
  {
   "cell_type": "markdown",
   "metadata": {},
   "source": [
    "$$\n",
    "\\mathbf{Q} = \n",
    "\\begin{bmatrix}\n",
    "&\\mathbf j&\\mathbf0&\\mathbf1&\\mathbf2\\\\\n",
    "\\mathbf i&\\\\\n",
    "\\mathbf0&&-3&3&0\\\\\n",
    "\\mathbf1&&4&-(4 + 3)&3\\\\\n",
    "\\mathbf2&&0&4&-4\\\\\n",
    "\\end{bmatrix}\n",
    "= \\begin{bmatrix}\n",
    "&\\mathbf j&\\mathbf0&\\mathbf1&\\mathbf2\\\\\n",
    "\\mathbf i&\\\\\n",
    "\\mathbf0&&-3&3&0\\\\\n",
    "\\mathbf1&&4&-7&3\\\\\n",
    "\\mathbf2&&0&4&-4\\\\\n",
    "\\end{bmatrix}\n",
    "$$"
   ]
  },
  {
   "cell_type": "markdown",
   "metadata": {},
   "source": [
    "(a) What is the average number of customers in the shop?\n",
    "\n",
    "**Solution**\n",
    "\n",
    "Solve the system of equation\n",
    "$$\n",
    "\\begin{align}\n",
    "    \\begin{aligned}\n",
    "        &\\bar{\\pi}\\mathbf{Q} = 0\\\\\n",
    "        &\\Leftrightarrow \\begin{cases}\n",
    "        -3\\pi_0 + 4\\pi_1 = 0\\\\\n",
    "        3\\pi_0 -7\\pi_1 + 4\\pi_2 = 0\\\\\n",
    "        3\\pi_1 - 4\\pi_2 = 0\n",
    "        \\end{cases}\n",
    "        &\\Leftrightarrow \\begin{cases}\n",
    "        \\pi_1 = \\frac{3}{4}\\pi_0\\\\\n",
    "        \\pi_2 = \\frac{3}{4}\\pi_1\\\\\n",
    "        \\end{cases}\n",
    "    \\end{aligned}\n",
    "\\end{align}\n",
    "$$"
   ]
  },
  {
   "cell_type": "markdown",
   "metadata": {},
   "source": [
    "$$\n",
    "\\pi_0 + \\pi_1 + \\pi_2 = 1 \\Rightarrow \\pi_0\\left(1 + \\frac{3}{4} + \\frac{9}{16}\\right) = 1 \\Rightarrow \\pi_0 = \\frac{16}{37}\n",
    "$$"
   ]
  },
  {
   "cell_type": "markdown",
   "metadata": {},
   "source": [
    "$$\n",
    "\\bar{n} = 0\\pi_1 + 1\\pi_2 + 2\\pi_3\n",
    "$$"
   ]
  },
  {
   "cell_type": "markdown",
   "metadata": {},
   "source": [
    "(b) What is the proportion of potential customers that enter the shop?\n",
    "\n",
    "**Solution**"
   ]
  },
  {
   "cell_type": "markdown",
   "metadata": {},
   "source": [
    "$\\pi_0 + \\pi_1$"
   ]
  },
  {
   "cell_type": "markdown",
   "metadata": {},
   "source": [
    "(c) If the barber could work twice as fast, how much more business would he do?\n",
    "\n",
    "**Solution**"
   ]
  },
  {
   "cell_type": "markdown",
   "metadata": {},
   "source": [
    "## Exercise 06"
   ]
  },
  {
   "cell_type": "markdown",
   "metadata": {},
   "source": [
    "Potential customers arrive at a full-service, one-pump gas station at a Poisson rate of 20 cars per hour. However, customers will only enter the station for gas if there are no more than two cars (including the one currently being attended to) at the pump. Suppose the amount of time required to service a car is exponentially distributed with a mean of five minutes."
   ]
  },
  {
   "cell_type": "markdown",
   "metadata": {},
   "source": [
    "Khách hàng tiềm năng đến trạm xăng một máy bơm, đầy đủ dịch vụ với tốc độ Poisson là 20 xe mỗi giờ. Tuy nhiên, khách hàng sẽ chỉ vào trạm đổ xăng nếu không có quá hai xe (bao gồm cả xe hiện đang được phục vụ) tại trạm xăng. Giả sử lượng thời gian cần thiết để bảo dưỡng một chiếc ô tô được phân bố theo cấp số nhân với trung bình là 5 phút."
   ]
  },
  {
   "cell_type": "markdown",
   "metadata": {},
   "source": [
    "Let $X(t)$ is the number of cars in the system. $X(t)$ is a Birth-Death process with state space $\\{0, 1, 2, 3\\}$.\n",
    "- Birth event: Markovian arrival process (Poisson process)\n",
    "- Death event: Markovian (exponential) service time\n",
    "\n",
    "State:\n",
    "- State 0: no car\n",
    "- State 1: one car in service\n",
    "- State 2: one car in service, one car waiting\n",
    "- State 3: one car in service, two car waiting\n",
    "\n",
    "Birth rate: $\\lambda_i = 20, 0 \\leq j \\leq 2$, $\\mu_j = 12, 1 \\leq j \\leq 3$"
   ]
  },
  {
   "cell_type": "markdown",
   "metadata": {},
   "source": [
    "$$\n",
    "\\mathbf{Q} = \n",
    "\\begin{bmatrix}\n",
    "&\\mathbf j&\\mathbf0&\\mathbf1&\\mathbf2&\\mathbf3\\\\\n",
    "\\mathbf i&\\\\\n",
    "\\mathbf0&&-20&20&0&0\\\\\n",
    "\\mathbf1&&12&-(20 + 12)&20&0\\\\\n",
    "\\mathbf2&&0&12&-(20 + 12)&20\\\\\n",
    "\\mathbf3&&0&0&12&-12\\\\\n",
    "\\end{bmatrix}\n",
    "$$"
   ]
  },
  {
   "cell_type": "markdown",
   "metadata": {},
   "source": [
    "$$\n",
    "\\pi\\mathbf{Q} \\Rightarrow\\begin{cases}\n",
    "-20\\pi_0 + 12\\pi_1 = 0\\\\\n",
    "20\\pi_0 - (20 + 12)\\pi_1 + 12\\pi_2 = 0\\\\\n",
    "20\\pi_1 - (20 + 12)\\pi_2 + 12\\pi_3 = 0\\\\\n",
    "+20\\pi_1 - 12\\pi_2 = 0\\\\\n",
    "\\end{cases}\n",
    "\\Rightarrow\\begin{cases}\n",
    "\\pi_1 = \\frac{5}{3}\\pi_0\\\\\n",
    "\\pi_2 = \\frac{5}{3}\\pi_1\\\\\n",
    "\\pi_3 = \\frac{5}{3}\\pi_2\\\\\n",
    "\\end{cases}\n",
    "$$"
   ]
  },
  {
   "cell_type": "markdown",
   "metadata": {},
   "source": [
    "$$\n",
    "\\pi_0 + \\pi_1 + \\pi_2 + \\pi_3 = 1 \\Rightarrow \\pi_0\\left(1 + \\frac{5}{3} + \\frac{25}{9} + \\frac{125}{27}\\right) = 1 \\Rightarrow \\pi_0 = \\frac{27}{272}\n",
    "$$"
   ]
  },
  {
   "cell_type": "markdown",
   "metadata": {},
   "source": [
    "(a) What is the average number of customers in the full service?\n",
    "\n",
    "**Solution**"
   ]
  },
  {
   "cell_type": "markdown",
   "metadata": {},
   "source": [
    "$$\n",
    "\\bar{n} = 0\\pi_1 + 1\\pi_2 + 2\\pi_3 + 3\\pi_3\n",
    "$$"
   ]
  },
  {
   "cell_type": "markdown",
   "metadata": {},
   "source": [
    "(b) What fraction of the attendant’s time will be spent servicing cars?\n",
    "\n",
    "**Solution**"
   ]
  },
  {
   "cell_type": "markdown",
   "metadata": {},
   "source": [
    "The attendant (which is the “server” in this problem) will be busy whenever the station is not empty, which is $1 - \\pi_0$"
   ]
  },
  {
   "cell_type": "markdown",
   "metadata": {},
   "source": [
    "(c) What fraction of potential customers are lost?\n",
    "\n",
    "**Solution**"
   ]
  },
  {
   "cell_type": "markdown",
   "metadata": {},
   "source": [
    " A customer is lost if, upon his arrival, the system is full. The proportion of customers lost is the proportion of time that the system is full, $\\pi_3$\n",
    "\n",
    " $$\n",
    " \\pi_3 = (5/3)^3 \\pi_0\n",
    " $$"
   ]
  },
  {
   "cell_type": "markdown",
   "metadata": {},
   "source": [
    "## Exercise 01"
   ]
  },
  {
   "cell_type": "markdown",
   "metadata": {},
   "source": [
    "Suppose that a one-celled organism can be in one of two states-either $A$ or $B$. \n",
    "- An individual in state $A$ will change to state $B$ at an exponential rate $\\alpha$; \n",
    "- An individual in state $B$ divides into two new individuals of type $A$ at an exponential rate $\\beta$. \n",
    "\n",
    "Let $N_A(t)$ be the member of organism in state $A$ and $N_B(t)$ be the member of organism in state $B$. \n",
    "\n",
    "Define an appropriate continuous-time Markov chain for a population of such organisms and determine the appropriate parameters for this model $(v_{\\{n,m\\}} , P_{\\{n,m\\},\\{n−1,m+1\\}} , P_{\\{n,m\\},\\{n+2,m−1\\}})$."
   ]
  },
  {
   "cell_type": "markdown",
   "metadata": {},
   "source": [
    "**Solution**"
   ]
  },
  {
   "cell_type": "markdown",
   "metadata": {},
   "source": [
    "Trạng thái hệ thống $(n, m)$, trong đó $n, m$ lần lượt là số trạng thái $A$ và $B$\n",
    "- Trạng thái $(0, 0)$, không được định nghĩa.\n",
    "- $N_A(t)$ là số thành viên trong trạng thái $A$\n",
    "- $N_B(t)$ là số thành viên trong trạng thái $B$\n",
    "\n",
    "Ma trận chuyển tỷ lệ\n",
    "\n",
    "$$\n",
    "\\mathbf{Q} = \n",
    "\\begin{bmatrix}\n",
    "&\\mathbf j&\\mathbf(n-2, m + 1)&\\mathbf(n-1, m + 1)&\\mathbf(n, m)&\\mathbf(n+1, m - 1)&\\mathbf(n+2, m - 1)\\\\\n",
    "\\mathbf i&\\\\\n",
    "\\mathbf(n-2, m + 1)&&-\\mathbf{I}_{m>1}(m+1)\\beta&0&\\mathbf{I}_{m>1}(m+1)\\beta&0&0\\\\\n",
    "\\mathbf(n-1, m + 1)&&0&0&0&0&0\\\\\n",
    "\\mathbf(n, m)&& 0 & \\mathbf{I}_{n>0}n\\alpha&-(\\mathbf{I}_{n>0}n\\alpha + \\mathbf{I}_{m>0}m\\beta)&0&\\mathbf{I}_{m>0}m\\beta\\\\\n",
    "\\mathbf(n+1, m - 1)&&0&0&\\mathbf{I}_{n>1}(n+1)\\alpha&-\\mathbf{I}_{n>1}(n+1)\\alpha&0\\\\\n",
    "\\mathbf(n+2, m - 1)&&0&0&0&0&0\\\\\n",
    "\\end{bmatrix}\n",
    "$$"
   ]
  },
  {
   "cell_type": "markdown",
   "metadata": {},
   "source": [
    "## Exercise 02"
   ]
  },
  {
   "cell_type": "markdown",
   "metadata": {},
   "source": [
    "Consider two machines, both of which have an exponential lifetime with mean $1/\\lambda$. There is a single repairman that can service machines at an exponential rate $\\mu$. Set up the Kolmogorov backward equations; you need not solve them."
   ]
  },
  {
   "cell_type": "markdown",
   "metadata": {},
   "source": [
    "**Solution**\n",
    "\n",
    "Let $X(t)$ donate the number of failed machines at the time $t$. Then $X(t)$ is **continuous-time Markov chain** on $S := \\{0, 1, 2\\}$:\n",
    "- State 0: Both working\n",
    "- State 1: (Machine 1 broken, machine 2 working) or (Machine 1 working, machine 2 broken)\n",
    "- State 2: Both broken\n",
    "\n",
    "with following rates:\n",
    "\n",
    "$$\n",
    "\\begin{align}\n",
    "\\lambda_0 &= 2\\lambda\\\\\n",
    "\\lambda_1 &= \\lambda\\\\\n",
    "\\mu_1 &= \\mu_2 = \\mu\n",
    "\\end{align}\n",
    "$$\n",
    "\n",
    "$$\n",
    "\\mathbf{Q} = \n",
    "\\begin{bmatrix}\n",
    "&\\mathbf j&\\mathbf0&\\mathbf1&\\mathbf2\\\\\n",
    "\\mathbf i&\\\\\n",
    "\\mathbf0&&-2\\lambda&2\\lambda&0\\\\\n",
    "\\mathbf1&&\\mu&-(\\mu + \\lambda)&\\lambda\\\\\n",
    "\\mathbf2&&0&\\mu&-\\mu\\\\\n",
    "\\end{bmatrix}\n",
    "$$\n",
    "\n",
    "The Kolmogorov backward equation, in matrix form, is:\n",
    "\n",
    "$$\n",
    "\\mathbf{P}'(t) = \\mathbf{Q}\\mathbf{P}(t) = \\begin{bmatrix}\n",
    "-2\\lambda&2\\lambda&0\\\\\n",
    "\\mu&-(\\mu + \\lambda)&\\lambda\\\\\n",
    "0&\\mu&-\\mu\\\\\n",
    "\\end{bmatrix}\\mathbf{P}(t) \n",
    "$$"
   ]
  },
  {
   "cell_type": "markdown",
   "metadata": {},
   "source": [
    "## Exercise 03"
   ]
  },
  {
   "cell_type": "markdown",
   "metadata": {},
   "source": [
    "A single repair-person looks after both machines 1 and 2. Each time it is repaired, machine $i$ stays up for an exponential time with rate $\\lambda_i , i = 1, 2$. When machine $i$ fails, it requires an exponentially distributed amount of work with rate $\\mu_i$ to complete its repair. The repair-person will always service machine 1 when it is down. For instance, if machine 1 fails while 2 is being repaired, then the repair-person will immediately stop work on machine 2 and start on 1."
   ]
  },
  {
   "cell_type": "markdown",
   "metadata": {},
   "source": [
    "(a) Determine state space $I$.\n",
    "\n",
    "**Solution**"
   ]
  },
  {
   "cell_type": "markdown",
   "metadata": {},
   "source": [
    "(b) What proportion of time is machine 2 down?\n",
    "\n",
    "*Hint*: There are four states. Let state 0 mean that no machines are down, state 1 that machine 1 is down and 2 is up, state 2 that machine 1 is up and 2 is down, and 3 that both machines are down.\n",
    "\n",
    "**Solution**"
   ]
  },
  {
   "cell_type": "markdown",
   "metadata": {},
   "source": [
    "Ta gọi các trạng thái:\n",
    "- 0: không máy nào hỏng\n",
    "- 1: máy 1 hỏng, máy 2 tốt\n",
    "- 2: máy 1 tốt, máy 2 hỏng\n",
    "- 3: cả hai máy đều hỏng\n",
    "\n",
    "Tỷ lệ sinh: \n",
    "- (Máy 1) $\\lambda_1$\n",
    "- (Máy 2) $\\lambda_2$\n",
    "\n",
    "Tỷ lệ tử:\n",
    "- (Máy 1) $\\mu_1$\n",
    "- (Máy 2) $\\mu_2$\n",
    "\n",
    "Ma trận chuyển tỷ lệ\n",
    "\n",
    "$$\n",
    "\\mathbf{Q} = \n",
    "\\begin{bmatrix}\n",
    "&\\mathbf j&\\mathbf0&\\mathbf1&\\mathbf2\\\\\n",
    "\\mathbf i&\\\\\n",
    "\\mathbf0&&-(\\lambda_1 + \\lambda_2) &\\lambda_1&\\lambda(1-\\alpha)\\\\\n",
    "\\mathbf1&&\\mu_1&-\\mu_2&0\\\\\n",
    "\\mathbf2&&\\mu_2&0&-\\mu_1\\\\\n",
    "\\end{bmatrix}\n",
    "$$"
   ]
  },
  {
   "cell_type": "markdown",
   "metadata": {},
   "source": [
    "## Exercise 04"
   ]
  },
  {
   "cell_type": "markdown",
   "metadata": {},
   "source": [
    "The following problem arises in molecular biology. The surface of a bacterium consists of several sites at which foreign molecules-some acceptable and some not-become attached. We consider a particular site and assume that molecules arrive at the site according to a Poisson process with parameter $\\lambda$. Among these molecules a proportion $\\alpha$ is acceptable. Unacceptable molecules stay at the site for a length of time which is exponentially distributed with parameter $\\mu_1$ , whereas an acceptable molecule remains at the site for an exponential time with rate $\\mu_2$. An arriving molecule will become attached only if the site is free of other molecules."
   ]
  },
  {
   "cell_type": "markdown",
   "metadata": {},
   "source": [
    "What percentage of time is the site occupied with an acceptable (unacceptable) molecule?"
   ]
  },
  {
   "cell_type": "markdown",
   "metadata": {},
   "source": [
    "*Hint*: Let the state be 2: an acceptable molecule is attached, 0: no molecule attached, 1: an unacceptable molecule is attached."
   ]
  },
  {
   "cell_type": "markdown",
   "metadata": {},
   "source": [
    "**Solution**\n",
    "\n",
    "Đây là một quá trình Markov liên tục với 3 trạng thái\n",
    "- Trạng thái 0: không có tế bào đính kèm\n",
    "- Trạng thái 1: một tế bào không tốt được đính kèm\n",
    "- Trạng thái 2: một tế bào tốt được đính kèm\n",
    "\n",
    "Ma trận chuyển tỷ lệ $\\mathbf{Q}$ được định nghĩa như sau:\n",
    "\n",
    "$$\n",
    "\\mathbf{Q} = \n",
    "\\begin{bmatrix}\n",
    "&\\mathbf j&\\mathbf0&\\mathbf1&\\mathbf2\\\\\n",
    "\\mathbf i&\\\\\n",
    "\\mathbf0&&-\\lambda&\\lambda\\alpha&\\lambda(1-\\alpha)\\\\\n",
    "\\mathbf1&&\\mu_2&-\\mu_2&0\\\\\n",
    "\\mathbf2&&\\mu_1&0&-\\mu_1\\\\\n",
    "\\end{bmatrix}\n",
    "$$\n",
    "\n",
    "Trong một khoảng thời gian dài, ta giải hệ hệ phương trình\n",
    "\n",
    "$$\n",
    "\\bar{\\pi}\\mathbf{Q}  = \\mathbf{0} \\Leftrightarrow \n",
    "\\begin{cases}\n",
    "-\\lambda\\pi_0 + \\mu_2\\pi_1 + \\mu_1\\pi_1 = 0\\\\\n",
    "\\lambda\\alpha\\pi_0 - \\mu_2\\pi_1 = 0\\\\\n",
    "\\lambda(1-\\alpha)\\pi_0 - \\mu_1\\pi_2 = 0\\\\\n",
    "\\pi_0 + \\pi_1 + \\pi_2 = 1 \n",
    "\\end{cases}\n",
    "$$"
   ]
  },
  {
   "cell_type": "markdown",
   "metadata": {},
   "source": [
    "## Exercise 05"
   ]
  },
  {
   "cell_type": "markdown",
   "metadata": {},
   "source": [
    "A service center consists of two servers, each working at an exponential rate of two services per hour. If customers arrive at a Poisson rate of three per hour, then, assuming a system capacity of at most three customers,\n",
    "\n",
    "(a) what fraction of potential customers enter the system?\n",
    "\n",
    "**Solution**\n",
    "\n",
    "(b) what would the value of part (a) be if there was only a single server, and his rate was twice as fast (that is, $\\mu = 4$)?\n",
    "\n",
    "**Solution**\n",
    "\n",
    "(c) What is the average number of customers in the service center?\n",
    "\n",
    "**Solution**"
   ]
  },
  {
   "cell_type": "markdown",
   "metadata": {},
   "source": [
    "Thời gian giữa các người đến là phân phối mũ với trung bình $1/\\lambda = 1/3$ giờ. Tỷ lệ dịch vụ $\\mu = 2$ trên giờ, thời gian của một dịch vụ là phân phối mũ với trung bình $1/\\mu = 1/2 = 0.5$ giờ."
   ]
  },
  {
   "cell_type": "markdown",
   "metadata": {},
   "source": [
    "Các trạng thái của hệ thống:\n",
    "- Trạng thái 0: không có người trong hệ thống\n",
    "- Trạng thái 1: có một khách hàng đang được xử lý, không có ai đợi\n",
    "- Trạng thái 2: có hai khách hàng đang được xử lý, không có ai đợi\n",
    "- Trạng thái 3: có hai khách hàng đang được xử lý, có một người đang đợi"
   ]
  },
  {
   "cell_type": "markdown",
   "metadata": {},
   "source": [
    "Ma trận chuyển tỷ lệ\n",
    "\n",
    "$$\n",
    "\\mathbf{Q} = \n",
    "\\begin{bmatrix}\n",
    "&\\mathbf j&\\mathbf0&\\mathbf1&\\mathbf2&\\mathbf3\\\\\n",
    "\\mathbf i&\\\\\n",
    "\\mathbf0&&-(\\lambda + \\mu)&\\lambda&\\lambda(1-\\alpha)\\\\\n",
    "\\mathbf1&&\\mu&-\\mu_2&0\\\\\n",
    "\\mathbf2&&0&0&-\\mu_1\\\\\n",
    "\\mathbf3&&0&0&-\\mu_1\\\\\n",
    "\\end{bmatrix}\n",
    "$$"
   ]
  }
 ],
 "metadata": {
  "language_info": {
   "name": "python"
  }
 },
 "nbformat": 4,
 "nbformat_minor": 2
}
