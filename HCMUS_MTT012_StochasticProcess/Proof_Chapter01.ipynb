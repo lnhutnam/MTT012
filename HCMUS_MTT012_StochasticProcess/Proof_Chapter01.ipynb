{
 "cells": [
  {
   "cell_type": "markdown",
   "metadata": {},
   "source": [
    "## General Information\n",
    "\n",
    "Fullname: LE Nhut Nam\n",
    "\n",
    "Class: Applied Mathematics - 33/2023\n",
    "\n",
    "Contact\n",
    "- Email: nam.lnhut@gmail.com"
   ]
  },
  {
   "cell_type": "markdown",
   "metadata": {},
   "source": [
    "## Stochastic Process - Some proof for chapter 01"
   ]
  },
  {
   "cell_type": "markdown",
   "metadata": {},
   "source": [
    "If $X(t)$ is a stationary independent increments and if $X(0) = 0$, then\n",
    "\n",
    "$$\n",
    "\\mathbb{E}[X(t)] = \\mu_1t\n",
    "$$\n",
    "\n",
    "$$\n",
    "Var[X(t)] = \\sigma_1^2t\n",
    "$$\n",
    "\n",
    "$$\n",
    "Var[X(t) - X(s)] = \\sigma_1^2(t - s), t > s\n",
    "$$\n",
    "\n",
    "$$\n",
    "K_X(s, t) = Cov[X(t), X(s)] = \\sigma_1^2\\min(t, s)\n",
    "$$\n",
    "where, $\\mu_1 = \\mu_X(1)$, $\\sigma_1^2 = Var[X(1)]$"
   ]
  },
  {
   "cell_type": "markdown",
   "metadata": {},
   "source": [
    "**Show:**\n",
    "$$\n",
    "\\mathbb{E}[X(t)] = \\mu_1t\n",
    "$$"
   ]
  },
  {
   "cell_type": "markdown",
   "metadata": {},
   "source": [
    "We have\n",
    "$$\n",
    "E[X(t)] = E[X(t) - X(0)]\n",
    "$$\n",
    "\n",
    "For any $t$, and $s$\n",
    "\n",
    "$$\n",
    "\\begin{align}\n",
    "    \\begin{aligned}\n",
    "        \\mathbb{E}[X(t + s)] &= \\mathbb{E}[X(t + s) - X(s) + X(s) - X(0)]\\\\\n",
    "        &= \\mathbb{E}[X(t + s) - X(s)] + \\mathbb{E}[X(s) - X(0)]\\\\\n",
    "        &= \\mathbb{E}[X(t) - X(0)] +  \\mathbb{E}[X(s) - X(0)]\\\\\n",
    "        &= \\mathbb{E}[X(t)] + \\mathbb{E}[X(s)]\n",
    "    \\end{aligned}\n",
    "\\end{align}\n",
    "$$"
   ]
  },
  {
   "cell_type": "markdown",
   "metadata": {},
   "source": [
    "We have to solve \n",
    "\n",
    "$$\n",
    "\\begin{align}\n",
    "    \\begin{aligned}\n",
    "        \\mathbb{E}[X(t + s)] &= \\mathbb{E}[X(t)] + \\mathbb{E}[X(s)] \\\\\n",
    "        \\Leftrightarrow f(t+s) &= f(t) + f(s) \\text{ (Cauchy functional equation)}\n",
    "    \\end{aligned}\n",
    "\\end{align}\n",
    "$$"
   ]
  },
  {
   "cell_type": "markdown",
   "metadata": {},
   "source": [
    "Solve above equation, we have:\n",
    "\n",
    "$$\n",
    "\\mathbb{E}[X(t)] = \\mu_1t, \\mu_1 = \\mu_X(1) = \\mathbb{E}[X(1)]\n",
    "$$"
   ]
  },
  {
   "cell_type": "markdown",
   "metadata": {},
   "source": [
    "**Show:**\n",
    "\n",
    "$$\n",
    "Var[X(t)] = \\sigma_1^2t\n",
    "$$\n"
   ]
  },
  {
   "cell_type": "markdown",
   "metadata": {},
   "source": [
    "For any $t$, and $s$\n",
    "\n",
    "$$\n",
    "\\begin{align}\n",
    "    \\begin{aligned}\n",
    "        Var[X(t + s)] &= Var[X(t + s) - X(s) + X(s) - X(0)]\\\\\n",
    "        &= Var[X(t + s) - X(s)] + Var[X(s) - X(0)]\\\\\n",
    "        &= Var[X(t) - X(0)] +  Var[X(s) - X(0)]\\\\\n",
    "        &= Var[X(t)] + Var[X(s)]\n",
    "    \\end{aligned}\n",
    "\\end{align}\n",
    "$$"
   ]
  },
  {
   "cell_type": "markdown",
   "metadata": {},
   "source": [
    "We have to solve \n",
    "\n",
    "$$\n",
    "\\begin{align}\n",
    "    \\begin{aligned}\n",
    "        Var[X(t + s)] &= Var[X(t)] + Var[X(s)] \\\\\n",
    "        \\Leftrightarrow f(t+s) &= f(t) + f(s) \\text{ (Cauchy functional equation)}\n",
    "    \\end{aligned}\n",
    "\\end{align}\n",
    "$$"
   ]
  },
  {
   "cell_type": "markdown",
   "metadata": {},
   "source": [
    "Solve above equation, we have:\n",
    "\n",
    "$$\n",
    "Var[X(t)] = \\sigma_1^2t, \\sigma_1^2 = Var[X(1)]\n",
    "$$"
   ]
  },
  {
   "cell_type": "markdown",
   "metadata": {},
   "source": [
    "**Show:**\n",
    "\n",
    "$$\n",
    "Var[X(t) - X(s)] = \\sigma_1^2(t - s), t > s\n",
    "$$"
   ]
  },
  {
   "cell_type": "markdown",
   "metadata": {},
   "source": [
    "$$\n",
    "\\begin{align}\n",
    "    \\begin{aligned}\n",
    "        Var[X(t)] &= Var[X(t) - X(s) + X(s) - X(0)]\\\\\n",
    "        &= Var[X(t) - X(s)] + Var[X(s) - X(0)]\\\\\n",
    "        &= Var[X(t) - X(s)] +  Var[X(s)] \\\\\n",
    "    \\end{aligned}\n",
    "\\end{align}\n",
    "$$"
   ]
  },
  {
   "cell_type": "markdown",
   "metadata": {},
   "source": [
    "$$\n",
    "\\begin{align}\n",
    "    \\begin{aligned}\n",
    "        Var[X(t) - X(s)] = Var[X(t)] - Var[X(s)] = \\sigma_1^2(t - s), t > s, \\sigma_1^2 = Var[X(1)]\n",
    "    \\end{aligned}\n",
    "\\end{align}\n",
    "$$"
   ]
  },
  {
   "cell_type": "markdown",
   "metadata": {},
   "source": [
    "**Show**\n",
    "\n",
    "$$\n",
    "K_X(s, t) = Cov[X(t), X(s)] = \\sigma_1^2\\min(t, s)\n",
    "$$"
   ]
  },
  {
   "cell_type": "markdown",
   "metadata": {},
   "source": [
    "$$\n",
    "\\begin{align}\n",
    "    \\begin{aligned}\n",
    "        Var[X(t) - X(s)] &= \\mathbb{E}[[(X(t) - X(s)) - \\mathbb{E}[X(t) - X(s)]]^2]\\\\\n",
    "        &= \\mathbb{E}[((X(t) - \\mathbb{E}[X(t)]) - (X(s) - \\mathbb{E}[X(s)]))^2]\\\\\n",
    "        &= \\mathbb{E}[(X(t) - \\mathbb{E}[X(t)])^2 - 2(X(t) - \\mathbb{E}[X(t)])(X(s) - \\mathbb{E}[X(s)]) + (X(t) - \\mathbb{E}[X(t)])^2]\\\\\n",
    "        &= Var[X(t)] + Var[X(s)] - 2Cov[X(t), X(s)]\n",
    "    \\end{aligned}\n",
    "\\end{align}\n",
    "$$"
   ]
  },
  {
   "cell_type": "markdown",
   "metadata": {},
   "source": [
    "$$\n",
    "\\begin{align}\n",
    "    \\begin{aligned}\n",
    "        Cov[X(t), X(s)] = \\frac{1}{2}[Var[X(t)] + Var[X(s)] - Var[X(t) - X(s)]] = \\frac{1}{2}\\sigma_1^2(t + s - (t - s)) = \\begin{cases}\n",
    "    Cov[X(t), X(s)] = \\frac{1}{2}\\sigma_1^2(t + s - (t - s)) = \\sigma_1^2s, \\text{ if } t > s\\\\\n",
    "    Cov[X(t), X(s)] = \\frac{1}{2}\\sigma_1^2(t + s - (s - t)) = \\sigma_1^2t, \\text{ if } s > t\\\\\n",
    "\\end{cases}\n",
    "    \\end{aligned}\n",
    "\\end{align}\n",
    "$$"
   ]
  }
 ],
 "metadata": {
  "language_info": {
   "name": "python"
  }
 },
 "nbformat": 4,
 "nbformat_minor": 2
}
