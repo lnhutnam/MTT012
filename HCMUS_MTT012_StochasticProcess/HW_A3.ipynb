{
 "cells": [
  {
   "cell_type": "markdown",
   "metadata": {},
   "source": [
    "## General Information\n",
    "\n",
    "Fullname: LE Nhut Nam\n",
    "\n",
    "Class: Applied Mathematics - 33/2023\n",
    "\n",
    "Contact\n",
    "- Email: nam.lnhut@gmail.com"
   ]
  },
  {
   "cell_type": "code",
   "execution_count": 1,
   "metadata": {},
   "outputs": [],
   "source": [
    "import numpy as np\n",
    "import matplotlib.pyplot as plt\n",
    "\n",
    "from math import comb\n",
    "from collections import Counter\n",
    "\n",
    "# Import the MarkovChain class from markovchain.py\n",
    "from markovchain import MarkovChain"
   ]
  },
  {
   "cell_type": "markdown",
   "metadata": {},
   "source": [
    "## Stochastic Process - Homework Assignment 03"
   ]
  },
  {
   "cell_type": "markdown",
   "metadata": {},
   "source": [
    "### Exercise 01 "
   ]
  },
  {
   "cell_type": "markdown",
   "metadata": {},
   "source": [
    "A Markov chain $X_0, X_1, \\dots$ on states $0, 1, 2$ has the transition probability matrix\n",
    "\n",
    "$$\n",
    "P = \n",
    "\\begin{pmatrix}\n",
    "0.1 & 0.2 & 0.7\\\\ \n",
    "0.9 & 0.1 & 0.0\\\\ \n",
    "0.1 & 0.8 & 0.1\n",
    "\\end{pmatrix}\n",
    "$$\n",
    "\n",
    "and initial distribution $p_0 = P(X_0 = 0) = 0.3, p_1 = P(X_1 = 1) = 0.4, p_2 = P(X_2 = 2) = 0.3$. Determine $P(X_0 = 0, X_1 = 1, X_2 = 2)$"
   ]
  },
  {
   "cell_type": "code",
   "execution_count": 2,
   "metadata": {},
   "outputs": [],
   "source": [
    "# # Transition probability matrix\n",
    "# P = np.array([\n",
    "#     [0.1, 0.2, 0.7],\n",
    "#     [0.9, 0.1, 0.0],\n",
    "#     [0.1, 0.8, 0.1]\n",
    "# ])"
   ]
  },
  {
   "cell_type": "code",
   "execution_count": 3,
   "metadata": {},
   "outputs": [],
   "source": [
    "# # Initial distribution\n",
    "# p0, p1, p2 = 0.3, 0.4, 0.3\n",
    "# v0 = np.array([p0, p1, p2])"
   ]
  },
  {
   "cell_type": "markdown",
   "metadata": {},
   "source": [
    "The joint probability $P(X_0 = 0, X_1 = 1, X_2 = 2)$ can be written via conditional ones as follows,\n",
    "\n",
    "$$\n",
    "\\begin{align}\n",
    "    \\begin{aligned}\n",
    "    P(X_0 = 0, X_1 = 1, X_2 = 2) &= P(X_0 = 0) \\times P(X_1 = 1 \\mid X_0 = 0) \\times P(X_2 = 2 \\mid X_1 = 1, X_0 = 0) \\\\\n",
    "    &= P(X_0 = 0) \\times P(X_1 = 1 \\mid X_0 = 0) \\times P(X_2 = 2 \\mid X_1 = 1) \\text{ (Markov properties)}\\\\\n",
    "    &= 0.3 \\times P_{0, 1} \\times P_{1, 2}\\\\\n",
    "    &= 0.3 \\times 0.2 \\times 0.0 \\\\\n",
    "    &= 0.0\n",
    "    \\end{aligned}\n",
    "\\end{align}\n",
    "$$"
   ]
  },
  {
   "cell_type": "markdown",
   "metadata": {},
   "source": [
    "### Exercise 02 "
   ]
  },
  {
   "cell_type": "markdown",
   "metadata": {},
   "source": [
    "A Markov chain $X_0, X_1, X_2, \\dots$ has the transition probability matrix\n",
    "\n",
    "$$\n",
    "P = \n",
    "\\begin{pmatrix}\n",
    "0.7 & 0.2 & 0.1\\\\ \n",
    "0.0 & 0.6 & 0.4\\\\ \n",
    "0.5 & 0.0 & 0.5\n",
    "\\end{pmatrix}\n",
    "$$\n",
    "\n",
    "Determine the conditional probabilities $P(X_2 = 1, X_3 = 1 \\mid X_1 = 0)$ and $P(X_1 = 1, X_2 = 1 \\mid X_0 = 0)$"
   ]
  },
  {
   "cell_type": "markdown",
   "metadata": {},
   "source": [
    "Determine the conditional probabilities $P(X_2 = 1, X_3 = 1 \\mid X_1 = 0)$, we have:\n",
    "\n",
    "$$\n",
    "\\begin{align}\n",
    "    \\begin{aligned}\n",
    "        P(X_2 = 1, X_3 = 1 \\mid X_1 = 0) &= P(X_3 = 1 \\mid X_2 = 1, X_1 = 0) \\times P(X_2 = 1 \\mid X_1 = 0)\\\\\n",
    "        &= P(X_3 = 1 \\mid X_2 = 1) \\times P(X_2 = 1 \\mid X_1 = 0)\\\\\n",
    "        &= P_{1, 1} \\times P_{0, 1}\\\\\n",
    "        &= 0.6 \\times 0.2\\\\\n",
    "        &= 0.12\n",
    "    \\end{aligned}\n",
    "\\end{align}\n",
    "$$"
   ]
  },
  {
   "cell_type": "markdown",
   "metadata": {},
   "source": [
    "Determine the conditional probabilities $P(X_1 = 1, X_2 = 1 \\mid X_0 = 0)$, we have:\n",
    "\n",
    "$$\n",
    "\\begin{align}\n",
    "    \\begin{aligned}\n",
    "        P(X_1 = 1, X_2 = 1 \\mid X_0 = 0) &= P(X_1 = 1 \\mid X_0 = 0) \\times P(X_2 = 1 \\mid X_1 = 1, X_0 = 0)\\\\\n",
    "        &= P(X_1 = 1 \\mid X_0 = 0) \\times P(X_2 = 1 \\mid X_1 = 1)\\\\\n",
    "        &= P_{0, 1} \\times P_{1, 1}\\\\\n",
    "        &= 0.2 \\times 0.6\\\\\n",
    "        &= 0.12\n",
    "    \\end{aligned}\n",
    "\\end{align}\n",
    "$$"
   ]
  },
  {
   "cell_type": "markdown",
   "metadata": {},
   "source": [
    "### Exercise 03\n",
    "\n",
    "A Markov chain $X_0, X_1, X_2, \\dots$ has the transition probability matrix\n",
    "\n",
    "$$\n",
    "P = \n",
    "\\begin{pmatrix}\n",
    "0.6 & 0.3 & 0.1\\\\ \n",
    "0.3 & 0.3 & 0.4\\\\ \n",
    "0.5 & 0.1 & 0.5\n",
    "\\end{pmatrix}\n",
    "$$\n",
    "\n",
    "If it is known that the process starts in state $X_0 = 1$, determine the probability\n",
    "\n",
    "$$\n",
    "P(X_0 = 1,X_1 = 0, X_2 = 2)\n",
    "$$"
   ]
  },
  {
   "cell_type": "markdown",
   "metadata": {},
   "source": [
    "The joint probability $P(X_0 = 1, X_1 = 0, X_2 = 2)$ can be written via conditional ones as follows with $P(X_0 = 1) = p$\n",
    "\n",
    "$$\n",
    "\\begin{align}\n",
    "    \\begin{aligned}\n",
    "    P(X_0 = 1, X_1 = 2, X_2 = 2) &= P(X_0 = 1) \\times P(X_1 = 0 \\mid X_0 = 1) \\times P(X_2 = 2 \\mid X_1 = 0, X_0 = 1) \\\\\n",
    "    &= P(X_0 = 0) \\times P(X_1 = 1 \\mid X_0 = 0) \\times P(X_2 = 2 \\mid X_1 = 0) \\text{ (Markov properties)}\\\\\n",
    "    &= p \\times P_{0, 1} \\times P_{0, 2}\\\\\n",
    "    &= p \\times 0.6 \\times 0.1 \\\\\n",
    "    &= 0.06p\n",
    "    \\end{aligned}\n",
    "\\end{align}\n",
    "$$"
   ]
  },
  {
   "cell_type": "markdown",
   "metadata": {},
   "source": [
    "### Exercise 04"
   ]
  },
  {
   "cell_type": "markdown",
   "metadata": {},
   "source": [
    "A Markov chain $X_0, X_1, X_2, \\dots$ has the transition probability matrix\n",
    "\n",
    "$$\n",
    "P = \n",
    "\\begin{pmatrix}\n",
    "0.1 & 0.1 & 0.8\\\\ \n",
    "0.2 & 0.2 & 0.6\\\\ \n",
    "0.3 & 0.3 & 0.4\n",
    "\\end{pmatrix}\n",
    "$$\n",
    "\n",
    "Determine the conditional probabilities $P(X_1 = 1, X_2 = 1 \\mid X_0 = 0)$ and $P(X_2 = 1, X_3 = 1 \\mid X_1 = 0)$"
   ]
  },
  {
   "cell_type": "markdown",
   "metadata": {},
   "source": [
    "Determine the conditional probabilities $P(X_1 = 1, X_2 = 1 \\mid X_0 = 0)$, we have:\n",
    "\n",
    "$$\n",
    "\\begin{align}\n",
    "    \\begin{aligned}\n",
    "        P(X_1 = 1, X_2 = 1 \\mid X_0 = 0) &= P(X_2 = 1 \\mid X_1 = 1, X_0 = 0) \\times P(X_1 = 1 \\mid X_0 = 0)\\\\\n",
    "        &= P(X_2 = 1 \\mid X_1 = 1) \\times P(X_1 = 1 \\mid X_0 = 0)\\\\\n",
    "        &= P_{1, 1} \\times P_{0, 1}\\\\\n",
    "        &= 0.2 \\times 0.1\\\\\n",
    "        &= 0.02\n",
    "    \\end{aligned}\n",
    "\\end{align}\n",
    "$$"
   ]
  },
  {
   "cell_type": "markdown",
   "metadata": {},
   "source": [
    "Determine the conditional probabilities $P(X_2 = 1, X_3 = 1 \\mid X_1 = 0)$, we have:\n",
    "\n",
    "$$\n",
    "\\begin{align}\n",
    "    \\begin{aligned}\n",
    "        P(X_2 = 1, X_3 = 1 \\mid X_1 = 0) &= P(X_3 = 1 \\mid X_2 = 1, X_1 = 0) \\times P(X_2 = 1 \\mid X_1 = 0)\\\\\n",
    "        &= P(X_3 = 1 \\mid X_2 = 1) \\times P(X_2 = 1 \\mid X_1 = 0)\\\\\n",
    "        &= P_{1, 1} \\times P_{0, 1}\\\\\n",
    "        &= 0.2 \\times 0.1\\\\\n",
    "        &= 0.02\n",
    "    \\end{aligned}\n",
    "\\end{align}\n",
    "$$"
   ]
  },
  {
   "cell_type": "markdown",
   "metadata": {},
   "source": [
    "### Exercise 05"
   ]
  },
  {
   "cell_type": "markdown",
   "metadata": {},
   "source": [
    "A Markov chain $X_0, X_1, X_2, \\dots$ has the transition probability matrix\n",
    "\n",
    "$$\n",
    "P = \n",
    "\\begin{pmatrix}\n",
    "0.3 & 0.2 & 0.5\\\\ \n",
    "0.5 & 0.1 & 0.4\\\\ \n",
    "0.5 & 0.2 & 0.3\n",
    "\\end{pmatrix}\n",
    "$$\n",
    "\n",
    "and initial distribution $p_0 = 0.5$, and $p_1 = 0.5$. Determine the probabilities $P(X_0 = 1, X_1 = 1, X_2 = 0)$, and $P(X_1 = 1, X_2 = 1, X_3 = 0)$"
   ]
  },
  {
   "cell_type": "markdown",
   "metadata": {},
   "source": [
    "Determine the conditional probabilities $P(X_0 = 1, X_1 = 1, X_2 = 0)$, we have:\n",
    "\n",
    "$$\n",
    "\\begin{align}\n",
    "    \\begin{aligned}\n",
    "        P(X_0 = 1, X_1 = 1, X_2 = 0) &= P(X_2 = 0 \\mid X_1 = 1, X_0 = 1) \\times P(X_1 = 1 \\mid X_0 = 1)\\\\\n",
    "        &= P(X_2 = 0 \\mid X_1 = 1) \\times P(X_1 = 1 \\mid X_0 = 1)\\\\\n",
    "        &= P_{0, 1} \\times P_{1, 1}\\\\\n",
    "        &= 0.3 \\times 0.1\\\\\n",
    "        &= 0.03\n",
    "    \\end{aligned}\n",
    "\\end{align}\n",
    "$$"
   ]
  },
  {
   "cell_type": "markdown",
   "metadata": {},
   "source": [
    "Determine the conditional probabilities $P(X_1 = 1, X_2 = 1, X_3 = 0)$, we have:\n",
    "\n",
    "$$\n",
    "\\begin{align}\n",
    "    \\begin{aligned}\n",
    "        P(X_1 = 1, X_2 = 1, X_3 = 0) &= P(X_3 = 0 \\mid X_2 = 1, X_1 = 1) \\times P(X_2 = 1 \\mid X_1 = 1)\\\\\n",
    "        &= P(X_3 = 0 \\mid X_2 = 1) \\times P(X_2 = 1 \\mid X_1 = 1)\\\\\n",
    "        &= P_{0, 1} \\times P_{1, 1}\\\\\n",
    "        &= 0.3 \\times 0.1\\\\\n",
    "        &= 0.03\n",
    "    \\end{aligned}\n",
    "\\end{align}\n",
    "$$"
   ]
  },
  {
   "cell_type": "markdown",
   "metadata": {},
   "source": [
    "### Exercise 06 "
   ]
  },
  {
   "cell_type": "markdown",
   "metadata": {},
   "source": [
    "A Markov chain $X_n$ on states $0, 1, 2$ has the transition probability matrix\n",
    "\n",
    "$$\n",
    "P = \n",
    "\\begin{pmatrix}\n",
    "0.1 & 0.2 & 0.7\\\\ \n",
    "0.2 & 0.2 & 0.6\\\\ \n",
    "0.6 & 0.1 & 0.3\n",
    "\\end{pmatrix}\n",
    "$$"
   ]
  },
  {
   "cell_type": "code",
   "execution_count": 6,
   "metadata": {},
   "outputs": [],
   "source": [
    "# Transition probability matrix\n",
    "P = np.array([\n",
    "    [0.1, 0.2, 0.7],\n",
    "    [0.2, 0.2, 0.6],\n",
    "    [0.6, 0.1, 0.3]\n",
    "])"
   ]
  },
  {
   "cell_type": "markdown",
   "metadata": {},
   "source": [
    "(a) Compute the two-step transition matrix $P^2$"
   ]
  },
  {
   "cell_type": "code",
   "execution_count": 7,
   "metadata": {},
   "outputs": [
    {
     "data": {
      "text/plain": [
       "array([[0.01, 0.04, 0.49],\n",
       "       [0.04, 0.04, 0.36],\n",
       "       [0.36, 0.01, 0.09]])"
      ]
     },
     "execution_count": 7,
     "metadata": {},
     "output_type": "execute_result"
    }
   ],
   "source": [
    "P2 = np.power(P, 2)\n",
    "P2"
   ]
  },
  {
   "cell_type": "markdown",
   "metadata": {},
   "source": [
    "(b) What is $P(X_3 = 1\\mid X_1 = 0)$"
   ]
  },
  {
   "cell_type": "markdown",
   "metadata": {},
   "source": [
    "$P(X_3 = 1\\mid X_1 = 0) = P^2_{0, 1}$"
   ]
  },
  {
   "cell_type": "code",
   "execution_count": 8,
   "metadata": {},
   "outputs": [
    {
     "data": {
      "text/plain": [
       "0.04000000000000001"
      ]
     },
     "execution_count": 8,
     "metadata": {},
     "output_type": "execute_result"
    }
   ],
   "source": [
    "P2[0, 1]"
   ]
  },
  {
   "cell_type": "markdown",
   "metadata": {},
   "source": [
    "(c) What is $P(X_3 = 1\\mid X_0 = 0)$"
   ]
  },
  {
   "cell_type": "code",
   "execution_count": 9,
   "metadata": {},
   "outputs": [
    {
     "data": {
      "text/plain": [
       "0.008000000000000002"
      ]
     },
     "execution_count": 9,
     "metadata": {},
     "output_type": "execute_result"
    }
   ],
   "source": [
    "np.power(P, 3)[0, 1]"
   ]
  },
  {
   "cell_type": "markdown",
   "metadata": {},
   "source": [
    "### Exercise 07"
   ]
  },
  {
   "cell_type": "markdown",
   "metadata": {},
   "source": [
    "A particle moves among the states $0, 1, 2$ according to a Markov process whose transition probability matrix is\n",
    "\n",
    "$$\n",
    "P = \n",
    "\\begin{pmatrix}\n",
    "0.0 & 0.5 & 0.5\\\\ \n",
    "0.5 & 0.0 & 0.5\\\\ \n",
    "0.5 & 0.5 & 0.0\n",
    "\\end{pmatrix}\n",
    "$$\n",
    "\n",
    "Let $X_n$ denote the position of the particle at the $n$-th move. Calculate\n",
    "\n",
    "$$\n",
    "P(X_n = 0\\mid X_0 = 0) \\text{ for}  n = 0, 1, 2, 3, 4\n",
    "$$"
   ]
  },
  {
   "cell_type": "code",
   "execution_count": 10,
   "metadata": {},
   "outputs": [],
   "source": [
    "# Transition probability matrix\n",
    "P = np.array([\n",
    "    [0.0, 0.5, 0.5],\n",
    "    [0.5, 0.0, 0.5],\n",
    "    [0.5, 0.5, 0.0]\n",
    "])"
   ]
  },
  {
   "cell_type": "code",
   "execution_count": 11,
   "metadata": {},
   "outputs": [
    {
     "name": "stdout",
     "output_type": "stream",
     "text": [
      "P(X_0 = 0 | X_0 = 0) = 1.0\n",
      "P(X_1 = 0 | X_0 = 0) = 0.0\n",
      "P(X_2 = 0 | X_0 = 0) = 0.0\n",
      "P(X_3 = 0 | X_0 = 0) = 0.0\n",
      "P(X_4 = 0 | X_0 = 0) = 0.0\n"
     ]
    }
   ],
   "source": [
    "for i in range(0, 5):\n",
    "    p = np.power(P, i)[0, 0]\n",
    "    print(f\"P(X_{i} = 0 | X_0 = 0) = {p}\")"
   ]
  },
  {
   "cell_type": "markdown",
   "metadata": {},
   "source": [
    "### Exercise 08"
   ]
  },
  {
   "cell_type": "markdown",
   "metadata": {},
   "source": [
    "A Markov chain $X_0, X_1, X_2, \\dots$ has the transition probability matrix\n",
    "\n",
    "$$\n",
    "P = \n",
    "\\begin{pmatrix}\n",
    "0.7 & 0.2 & 0.1\\\\ \n",
    "0.0 & 0.6 & 0.4\\\\ \n",
    "0.5 & 0.0 & 0.5\n",
    "\\end{pmatrix}\n",
    "$$\n",
    "\n",
    "Determine the conditional probabilities $P(X_3 = 1 \\mid X_1 = 0)$, and $P(X_2 = 1 \\mid X_0 = 0)$"
   ]
  },
  {
   "cell_type": "code",
   "execution_count": 15,
   "metadata": {},
   "outputs": [],
   "source": [
    "# Transition probability matrix\n",
    "P = np.array([\n",
    "    [0.7, 0.2, 0.1],\n",
    "    [0.0, 0.6, 0.4],\n",
    "    [0.5, 0.0, 0.5]\n",
    "])"
   ]
  },
  {
   "cell_type": "code",
   "execution_count": 16,
   "metadata": {},
   "outputs": [
    {
     "name": "stdout",
     "output_type": "stream",
     "text": [
      "P(X_3 = 1 | X_1 = 0) = 0.04000000000000001\n"
     ]
    }
   ],
   "source": [
    "print(f\"P(X_{3} = 1 | X_1 = 0) = {np.power(P, 2)[0, 1]}\")"
   ]
  },
  {
   "cell_type": "code",
   "execution_count": 17,
   "metadata": {},
   "outputs": [
    {
     "name": "stdout",
     "output_type": "stream",
     "text": [
      "P(X_2 = 1 | X_1 = 0) = 0.2\n"
     ]
    }
   ],
   "source": [
    "print(f\"P(X_{2} = 1 | X_1 = 0) = {np.power(P, 1)[0, 1]}\")"
   ]
  },
  {
   "cell_type": "markdown",
   "metadata": {},
   "source": [
    "### Exercise 09"
   ]
  },
  {
   "cell_type": "markdown",
   "metadata": {},
   "source": [
    "A Markov chain $X_0, X_1, X_2, \\dots$ has the transition probability matrix\n",
    "\n",
    "$$\n",
    "P = \n",
    "\\begin{pmatrix}\n",
    "0.6 & 0.3 & 0.1\\\\ \n",
    "0.3 & 0.3 & 0.4\\\\ \n",
    "0.4 & 0.1 & 0.5\n",
    "\\end{pmatrix}\n",
    "$$\n",
    "\n",
    "If it is known that the process starts in state $X_0 = 1$, determine the probability $P(X_2 = 2)$"
   ]
  },
  {
   "cell_type": "markdown",
   "metadata": {},
   "source": [
    "$P(X_0 = 1) = 1$\n",
    "\n",
    "We have\n",
    "\n",
    "$$\n",
    "\\begin{align}\n",
    "    \\begin{aligned}\n",
    "        P(X_2 = 2) &= P(X_2 = 2 | X_1 = 0, X_0 = 1) \\times P(X_2 = 2 | X_1 = 1, X_0 = 1) \\times P(X_2 = 2 | X_1 = 2, X_0 = 1)\\\\\n",
    "        &= P(X_2 = 2 | X_1 = 0) \\times P(X_2 = 2 | X_1 = 1) \\times P(X_2 = 2 | X_1 = 2)\\\\\n",
    "        &= P_{0, 2} \\times P_{1, 2} \\times P_{2, 2}\\\\\n",
    "        &= 0.3 \\times 0.3 \\times 0.5\n",
    "        &= 0.045 \n",
    "    \\end{aligned}\n",
    "\\end{align}\n",
    "$$"
   ]
  },
  {
   "cell_type": "markdown",
   "metadata": {},
   "source": [
    "### Exercise 10"
   ]
  },
  {
   "cell_type": "markdown",
   "metadata": {},
   "source": [
    "A Markov chain $X_0, X_1, X_2, \\dots$ has the transition probability matrix\n",
    "\n",
    "$$\n",
    "P = \n",
    "\\begin{pmatrix}\n",
    "0.1 & 0.1 & 0.8\\\\ \n",
    "0.2 & 0.2 & 0.6\\\\ \n",
    "0.3 & 0.3 & 0.4\n",
    "\\end{pmatrix}\n",
    "$$\n",
    "\n",
    "Determine the conditional probabilities $P(X_3 = 1 \\mid X_1 = 0)$, and $P(X_2 = 1 \\mid X_0 = 0)$"
   ]
  },
  {
   "cell_type": "code",
   "execution_count": 19,
   "metadata": {},
   "outputs": [],
   "source": [
    "# Transition probability matrix\n",
    "P = np.array([\n",
    "    [0.1, 0.1, 0.8],\n",
    "    [0.2, 0.2, 0.6],\n",
    "    [0.3, 0.3, 0.4]\n",
    "])"
   ]
  },
  {
   "cell_type": "code",
   "execution_count": 20,
   "metadata": {},
   "outputs": [
    {
     "name": "stdout",
     "output_type": "stream",
     "text": [
      "P(X_3 = 1 | X_1 = 0) = 0.010000000000000002\n"
     ]
    }
   ],
   "source": [
    "print(f\"P(X_{3} = 1 | X_1 = 0) = {np.power(P, 2)[0, 1]}\")"
   ]
  },
  {
   "cell_type": "code",
   "execution_count": 21,
   "metadata": {},
   "outputs": [
    {
     "name": "stdout",
     "output_type": "stream",
     "text": [
      "P(X_2 = 1 | X_1 = 0) = 0.1\n"
     ]
    }
   ],
   "source": [
    "print(f\"P(X_{2} = 1 | X_1 = 0) = {np.power(P, 1)[0, 1]}\")"
   ]
  },
  {
   "cell_type": "markdown",
   "metadata": {},
   "source": [
    "### Exercise 11"
   ]
  },
  {
   "cell_type": "markdown",
   "metadata": {},
   "source": [
    "A Markov chain $X_0, X_1, X_2, \\dots$ has the transition probability matrix\n",
    "\n",
    "$$\n",
    "P = \n",
    "\\begin{pmatrix}\n",
    "0.3 & 0.2 & 0.5\\\\ \n",
    "0.5 & 0.1 & 0.4\\\\ \n",
    "0.5 & 0.2 & 0.3\n",
    "\\end{pmatrix}\n",
    "$$\n",
    "\n",
    "and initial distribution $p_5 =0.5$, and $p_1 = 0.5$. Determine the probabilities $P(X_2 = 0)$, and $P(X_3 = 0)$."
   ]
  },
  {
   "cell_type": "markdown",
   "metadata": {},
   "source": []
  },
  {
   "cell_type": "markdown",
   "metadata": {},
   "source": [
    "### Exercise 12 "
   ]
  },
  {
   "cell_type": "markdown",
   "metadata": {},
   "source": [
    "Draw the state transition diagrams and classify the states of the Markov chains with the following transition probability matrices"
   ]
  },
  {
   "cell_type": "markdown",
   "metadata": {},
   "source": [
    "(a)\n",
    "\n",
    "$$\n",
    "P = \n",
    "\\begin{pmatrix}\n",
    "0.0 & 0.5 & 0.5\\\\ \n",
    "0.5 & 0.0 & 0.5\\\\ \n",
    "0.5 & 0.5 & 0.0\n",
    "\\end{pmatrix}\n",
    "$$"
   ]
  },
  {
   "cell_type": "code",
   "execution_count": 22,
   "metadata": {},
   "outputs": [
    {
     "data": {
      "image/png": "[encoded data removed]",
      "text/plain": [
       "<Figure size 800x800 with 1 Axes>"
      ]
     },
     "metadata": {},
     "output_type": "display_data"
    }
   ],
   "source": [
    "P = np.array([[0.0, 0.5, 0.5], [0.5, 0.0, 0.5], [0.5, 0.5, 0.0]]) # Transition matrix\n",
    "mc = MarkovChain(P, ['1', '2', '3'])\n",
    "mc.draw()"
   ]
  },
  {
   "cell_type": "markdown",
   "metadata": {},
   "source": [
    "(b)\n",
    "\n",
    "$$\n",
    "P = \n",
    "\\begin{pmatrix}\n",
    "0.0 & 0.0 & 0.5 & 0.5\\\\ \n",
    "1 & 0.0 & 0.0 & 0.0\\\\ \n",
    "0.0 & 1 & 0.0 & 0.0\\\\ \n",
    "0.0 & 1 & 0.0 & 0.0\\\\ \n",
    "\\end{pmatrix}\n",
    "$$"
   ]
  },
  {
   "cell_type": "code",
   "execution_count": 23,
   "metadata": {},
   "outputs": [
    {
     "data": {
      "image/png": "[encoded data removed]",
      "text/plain": [
       "<Figure size 1000x1000 with 1 Axes>"
      ]
     },
     "metadata": {},
     "output_type": "display_data"
    }
   ],
   "source": [
    "P = np.array([[0.0, 0.0, 0.5, 0.5], [1, 0.0, 0.0, 0.0], [0.0, 1, 0.0, 0.0], [0.0, 1, 0.0, 0.0]]) # Transition matrix\n",
    "mc = MarkovChain(P, ['1', '2', '3', '4'])\n",
    "mc.draw()"
   ]
  },
  {
   "cell_type": "markdown",
   "metadata": {},
   "source": [
    "(c)\n",
    "\n",
    "$$\n",
    "P = \n",
    "\\begin{pmatrix}\n",
    "0.3 & 0.4 & 0.0 & 0.0 & 0.3\\\\ \n",
    "0.0 & 1 & 0.0 & 0.0 & 0.0\\\\ \n",
    "0.0 & 0.0 & 0.0 & 0.6 & 0.4\\\\ \n",
    "0.0 & 0.0 & 0.0 & 0.0 & 1\\\\ \n",
    "0.0 & 0.0 & 1 & 0.0 & 0.0\\\\ \n",
    "\\end{pmatrix}\n",
    "$$"
   ]
  },
  {
   "cell_type": "code",
   "execution_count": 24,
   "metadata": {},
   "outputs": [
    {
     "data": {
      "image/png": "[encoded data removed]",
      "text/plain": [
       "<Figure size 1200x1200 with 1 Axes>"
      ]
     },
     "metadata": {},
     "output_type": "display_data"
    }
   ],
   "source": [
    "P = np.array([[0.3, 0.4, 0.0, 0.0, 0.3], [0.0, 1, 0.0, 0.0, 0.0], [0.0, 0.0, 0.0, 0.6, 0.4], [0.0, 0.0, 0.0, 0.0, 1], [0.0, 0.0, 1, 0.0, 0.0]]) # Transition matrix\n",
    "mc = MarkovChain(P, ['1', '2', '3', '4', '5'])\n",
    "mc.draw()"
   ]
  },
  {
   "cell_type": "markdown",
   "metadata": {},
   "source": [
    "### Exercise 13"
   ]
  },
  {
   "cell_type": "markdown",
   "metadata": {},
   "source": [
    "Consider a Markov chain with state space $\\{0, 1\\}$ and transition probability matrix\n",
    "\n",
    "$$\n",
    "\\begin{bmatrix}\n",
    "1 & 0\\\\ \n",
    "1/2 & 1/2\n",
    "\\end{bmatrix}\n",
    "$$"
   ]
  },
  {
   "cell_type": "markdown",
   "metadata": {},
   "source": [
    "(a) Show that the state 0 is recurrent"
   ]
  },
  {
   "cell_type": "markdown",
   "metadata": {},
   "source": []
  },
  {
   "cell_type": "markdown",
   "metadata": {},
   "source": [
    "(b) Show that state 1 is transient."
   ]
  },
  {
   "cell_type": "markdown",
   "metadata": {},
   "source": []
  },
  {
   "cell_type": "markdown",
   "metadata": {},
   "source": [
    "### Exercise 14"
   ]
  },
  {
   "cell_type": "markdown",
   "metadata": {},
   "source": [
    "Consider a Markov chain with state space $\\{0, 1, 2\\}$, and transition probability matrix\n",
    "\n",
    "$$\n",
    "\\begin{bmatrix}\n",
    "0 & 1/2 & 1/2\\\\ \n",
    "1 & 0 & 0\\\\\n",
    "1 & 0 & 0\\\\\n",
    "\\end{bmatrix}\n",
    "$$\n",
    "\n",
    "Show that state 0 is periodic with period 2."
   ]
  },
  {
   "cell_type": "markdown",
   "metadata": {},
   "source": []
  },
  {
   "cell_type": "markdown",
   "metadata": {},
   "source": [
    "### Exercise 15"
   ]
  },
  {
   "cell_type": "markdown",
   "metadata": {},
   "source": [
    "A Markov chain $\\{X_n, n \\leq 0\\}$ with states 0, 1, 2, has the transition probability matrix\n",
    "\n",
    "$$\n",
    "\\begin{bmatrix}\n",
    "1/2 & 1/3 & 1/6\\\\ \n",
    "0 & 1/3 & 2/3\\\\\n",
    "1/2 & 0 & 1/2\\\\\n",
    "\\end{bmatrix}\n",
    "$$"
   ]
  },
  {
   "cell_type": "markdown",
   "metadata": {},
   "source": [
    "(a) $P(X_0 = 0) = P(X_0 = 1) = 1/4$, find $\\mathbb{E}(X_3)$"
   ]
  },
  {
   "cell_type": "markdown",
   "metadata": {},
   "source": []
  },
  {
   "cell_type": "markdown",
   "metadata": {},
   "source": [
    "(b) Find the invariant probability $\\bar{\\pi}$"
   ]
  },
  {
   "cell_type": "markdown",
   "metadata": {},
   "source": []
  },
  {
   "cell_type": "markdown",
   "metadata": {},
   "source": [
    "### Exercise 16"
   ]
  },
  {
   "cell_type": "markdown",
   "metadata": {},
   "source": [
    "Consider a gambler who at each play of the game has probability p of winning one unit and probability $q = 1 − p$ of losing one unit. Let $p_i, i = 0, 1, \\dots, N$, denote the probability that, starting with $i$, the gambler’s fortune will eventually reach $N$. Assuming that successive plays of the game are independent"
   ]
  },
  {
   "cell_type": "markdown",
   "metadata": {},
   "source": [
    "(a) What is the probability that, starting with $i$ units, the gambler’s fortune will reach N before reaching 0?"
   ]
  },
  {
   "cell_type": "markdown",
   "metadata": {},
   "source": [
    "(b) Suppose Nam and Dong decide to flip pennies; the one coming closest to the wall wins. Dong, being the better player, has a probability 0.6 of winning on each flip."
   ]
  },
  {
   "cell_type": "markdown",
   "metadata": {},
   "source": [
    "(i) If Dong starts with five pennies and Nam with ten, what is the probability that Dong will wipe Nam out?"
   ]
  },
  {
   "cell_type": "markdown",
   "metadata": {},
   "source": [
    "(ii) What if Dong starts with 10 and Nam with 20?"
   ]
  },
  {
   "cell_type": "markdown",
   "metadata": {},
   "source": [
    "### Exercise 17"
   ]
  },
  {
   "cell_type": "markdown",
   "metadata": {},
   "source": [
    "Three white and three black balls are distributed in two urns in such a way that each contains three balls. We say that the system is in state $i$, $i = 0, 1, 2, 3$, if the first urn contains $i$ white balls. At each step, we draw one ball from each urn and place the ball drawn from the first urn into the second, and conversely with the ball from the second urn. Let $X_n$ denote the state of the system after the $n$-th step."
   ]
  },
  {
   "cell_type": "markdown",
   "metadata": {},
   "source": [
    "(a) Explain why $\\{X_n , n = 0, 1, 2, \\dots\\}$ is a Markov chain and calculate its transition probability matrix."
   ]
  },
  {
   "cell_type": "markdown",
   "metadata": {},
   "source": [
    "The state of the system is defined by the number of white balls in the first box. There are four states\n",
    "- First: Urns-1[3 black, 0 white] --- Urns-2[0 black, 3 white] \n",
    "- Second: Urns-1[2 black, 1 white] --- Urns-2[1 black, 2 white] \n",
    "- Third: Urns-1[1 black, 2 white] --- Urns-2[2 black, 1 white] \n",
    "- Last: Urns-1[0 black, 3 white] --- Urns-2[3 black, 0 white] \n",
    "\n",
    "=> discrete time Markov chain."
   ]
  },
  {
   "cell_type": "markdown",
   "metadata": {},
   "source": [
    "Its transition probability matrix\n",
    "\n",
    "$$\n",
    "P = \n",
    "\\begin{bmatrix}\n",
    "&\\mathbf j&\\mathbf0&\\mathbf1&\\mathbf2&\\mathbf3\\\\\n",
    "\\mathbf i&\\\\\n",
    "\\mathbf0&&0&1&0&0\\\\\n",
    "\\mathbf1&&\\frac19&\\frac49&\\frac49&0\\\\\n",
    "\\mathbf2&&0&\\frac49&\\frac49&\\frac19\\\\\n",
    "\\mathbf3&&0&0&1&0\n",
    "\\end{bmatrix}\n",
    "$$\n",
    "\n",
    "$\\mathbf i$ stands for the state the system actually is at, and $\\mathbf j$ stands for the state the system is to jump to.\n",
    "\n",
    "Considering \n",
    "\n",
    "$$\n",
    "P_{2, 1} = \\frac{4}{9}\n",
    "$$\n",
    "\n",
    "Because we need select either of the white balls (2/ 3) from the first box and white ball in the second box (1/ 3) or the black balls (2/ 3) from the second box and black ball in the first box (1/ 3); these events are indepdent. So:\n",
    "\n",
    "$$\n",
    "P_{2, 1} = \\frac{2}{3} \\times \\frac{2}{3} = \\frac{4}{9}\n",
    "$$"
   ]
  },
  {
   "cell_type": "markdown",
   "metadata": {},
   "source": [
    "(b) Determine the limiting probabilities $\\pi_j$"
   ]
  },
  {
   "cell_type": "code",
   "execution_count": 42,
   "metadata": {},
   "outputs": [
    {
     "data": {
      "text/plain": [
       "array([[0., 0., 0., 0.],\n",
       "       [1., 0., 0., 0.],\n",
       "       [0., 0., 0., 1.],\n",
       "       [0., 0., 0., 0.]])"
      ]
     },
     "execution_count": 42,
     "metadata": {},
     "output_type": "execute_result"
    }
   ],
   "source": [
    "from scipy.linalg import eig \n",
    "\n",
    "P = np.array([\n",
    "    [0, 1, 0, 0],\n",
    "    [1/9, 4/9, 4/9, 0],\n",
    "    [0, 4/9, 4/9, 1/9],\n",
    "    [0, 0, 1, 0]\n",
    "])"
   ]
  },
  {
   "cell_type": "markdown",
   "metadata": {},
   "source": [
    "### Exercise 18"
   ]
  },
  {
   "cell_type": "markdown",
   "metadata": {},
   "source": [
    "Suppose that coin 1 has probability 0.7 of coming up heads, and coin 2 has probability 0.6 of coming up heads. If the coin flipped today comes up heads, then we select coin 1 to flip tomorrow, and if it comes up tails, then we select coin 2 to flip tomorrow. If the coin initially flipped is equally likely to be coin 1 or coin 2."
   ]
  },
  {
   "cell_type": "markdown",
   "metadata": {},
   "source": [
    "$\\{X_n, n \\geq\\}$ is Markov chain where $X_i$ is a random variable donate the label of the coin that is flipped on the $n$-th day after the initial flip."
   ]
  },
  {
   "cell_type": "markdown",
   "metadata": {},
   "source": [
    "Transition matrix:\n",
    "\n",
    "$$\n",
    "P = \n",
    "\\begin{bmatrix}\n",
    "0.7 & 0.3\\\\\n",
    "0.6 & 0.4\\\\\n",
    "\\end{bmatrix}\n",
    "$$"
   ]
  },
  {
   "cell_type": "code",
   "execution_count": 52,
   "metadata": {},
   "outputs": [],
   "source": [
    "P = np.array([\n",
    "    [0.7, 0.3],\n",
    "    [0.6, 0.4]\n",
    "])"
   ]
  },
  {
   "cell_type": "markdown",
   "metadata": {},
   "source": [
    "(a) What is the probability that the coin flipped on the third day after the initial flip is coin 1?"
   ]
  },
  {
   "cell_type": "code",
   "execution_count": 54,
   "metadata": {},
   "outputs": [
    {
     "data": {
      "text/plain": [
       "array([[0.343, 0.027],\n",
       "       [0.216, 0.064]])"
      ]
     },
     "execution_count": 54,
     "metadata": {},
     "output_type": "execute_result"
    }
   ],
   "source": [
    "np.power(P, 2)"
   ]
  },
  {
   "cell_type": "markdown",
   "metadata": {},
   "source": [
    "(b) Suppose that the coin flipped on Monday comes up heads. What is the probability that the coin flipped on Friday of the same week also comes up heads?"
   ]
  },
  {
   "cell_type": "markdown",
   "metadata": {},
   "source": []
  },
  {
   "cell_type": "markdown",
   "metadata": {},
   "source": [
    "### Exercise 19"
   ]
  },
  {
   "cell_type": "markdown",
   "metadata": {},
   "source": [
    "Coin 1 comes up heads with probability 0.6 and coin 2 with probability 0.5. A coin is continually flipped until it comes up tails, at which time that coin is put aside and we start flipping the other one."
   ]
  },
  {
   "cell_type": "markdown",
   "metadata": {},
   "source": [
    "(a) What proportion of flips use coin 1?"
   ]
  },
  {
   "cell_type": "markdown",
   "metadata": {},
   "source": []
  },
  {
   "cell_type": "markdown",
   "metadata": {},
   "source": [
    "(b) If we start the process with coin 1 what is the probability that coin 2 is used on the fifth flip?"
   ]
  },
  {
   "cell_type": "markdown",
   "metadata": {},
   "source": []
  },
  {
   "cell_type": "markdown",
   "metadata": {},
   "source": [
    "### Exercise 20"
   ]
  },
  {
   "cell_type": "markdown",
   "metadata": {},
   "source": [
    "In a good weather year the number of storms is Poisson distributed with mean 1; in a bad year it is Poisson distributed with mean 3. Suppose that any year’s weather conditions depends on past years only through the previous year’s condition. Suppose that a good year is equally likely to be followed by either a good or a bad year, and that a bad year is twice as likely to be followed by a bad year\n",
    "as by a good year. Suppose that last year-call it year 0-was a good year."
   ]
  },
  {
   "cell_type": "markdown",
   "metadata": {},
   "source": [
    "(a) Find the expected total number of storms in the next two years (that is, in years 1 and 2)."
   ]
  },
  {
   "cell_type": "markdown",
   "metadata": {},
   "source": []
  },
  {
   "cell_type": "markdown",
   "metadata": {},
   "source": [
    "(b) Find the probability there are no storms in year 3."
   ]
  },
  {
   "cell_type": "markdown",
   "metadata": {},
   "source": []
  },
  {
   "cell_type": "markdown",
   "metadata": {},
   "source": [
    "(c) Find the long-run average number of storms per year."
   ]
  },
  {
   "cell_type": "markdown",
   "metadata": {},
   "source": []
  },
  {
   "cell_type": "markdown",
   "metadata": {},
   "source": [
    "### Exercise 21"
   ]
  },
  {
   "cell_type": "markdown",
   "metadata": {},
   "source": [
    "Consider three urns, one colored red, one white, and one blue. The red urn contains 1 red and 4 blue balls; the white urn contains 3 white balls, 2 red balls, and 2 blue balls; the blue urn contains 4 white balls, 3 red balls, and 2 blue balls. At the initial stage, a ball is randomly selected from the red urn and then returned to that urn. At every subsequent stage, a ball is randomly selected from the\n",
    "urn whose color is the same as that of the ball previously selected and is then returned to that urn. In the long run, what proportion of the selected balls are red? What proportion are white? What proportion are blue?"
   ]
  },
  {
   "cell_type": "markdown",
   "metadata": {},
   "source": []
  },
  {
   "cell_type": "code",
   "execution_count": null,
   "metadata": {},
   "outputs": [],
   "source": []
  }
 ],
 "metadata": {
  "kernelspec": {
   "display_name": "pytorch",
   "language": "python",
   "name": "python3"
  },
  "language_info": {
   "codemirror_mode": {
    "name": "ipython",
    "version": 3
   },
   "file_extension": ".py",
   "mimetype": "text/x-python",
   "name": "python",
   "nbconvert_exporter": "python",
   "pygments_lexer": "ipython3",
   "version": "3.9.18"
  }
 },
 "nbformat": 4,
 "nbformat_minor": 2
}
